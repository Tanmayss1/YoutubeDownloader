{
 "cells": [
  {
   "cell_type": "code",
   "execution_count": 7,
   "metadata": {},
   "outputs": [
    {
     "name": "stdout",
     "output_type": "stream",
     "text": [
      "^C\n",
      "Note: you may need to restart the kernel to use updated packages.\n"
     ]
    },
    {
     "name": "stdout",
     "output_type": "stream",
     "text": [
      "Requirement already satisfied: pytube in c:\\users\\cflun\\anaconda3\\lib\\site-packages (15.0.0)\n"
     ]
    }
   ],
   "source": [
    "pip install pytube"
   ]
  },
  {
   "cell_type": "code",
   "execution_count": null,
   "metadata": {},
   "outputs": [],
   "source": [
    "from pytube import YouTube\n",
    "from sys import argv\n",
    "import webbrowser\n",
    "import matplotlib.pyplot as plt\n",
    "import matplotlib.image as mpimg"
   ]
  },
  {
   "cell_type": "markdown",
   "metadata": {},
   "source": [
    "# Youtube Downloader"
   ]
  },
  {
   "cell_type": "code",
   "execution_count": 8,
   "metadata": {},
   "outputs": [
    {
     "name": "stdout",
     "output_type": "stream",
     "text": [
      "Title:  UNLIMITED Food in Affordable Price | Absolute Barbeque Menu | Diksha Singh\n",
      "View:  258\n"
     ]
    },
    {
     "data": {
      "text/plain": [
       "'c:\\\\Users\\\\cflun\\\\Desktop\\\\Data Analyst 2023\\\\Git Repo\\\\YoutubeDownloader\\\\YoutubeDownloader\\\\./DownloadedFiles\\\\UNLIMITED Food in Affordable Price  Absolute Barbeque Menu  Diksha Singh.mp4'"
      ]
     },
     "execution_count": 8,
     "metadata": {},
     "output_type": "execute_result"
    }
   ],
   "source": [
    "link = argv[1]\n",
    "Link = input(\"Type/Paster The Youtube Link\")\n",
    "\n",
    "yt = YouTube(Link)\n",
    "\n",
    "print(\"Title: \", yt.title)\n",
    "\n",
    "print(\"View: \", yt.views)\n",
    "\n",
    "yd = yt.streams.get_highest_resolution()\n",
    "\n",
    "# ADD FOLDER HERE\n",
    "yd.download('./DownloadedFiles')"
   ]
  },
  {
   "cell_type": "markdown",
   "metadata": {},
   "source": [
    "# Youtube Player"
   ]
  },
  {
   "cell_type": "code",
   "execution_count": 9,
   "metadata": {},
   "outputs": [
    {
     "name": "stdout",
     "output_type": "stream",
     "text": [
      "Title:  UNLIMITED Food in Affordable Price | Absolute Barbeque Menu | Diksha Singh\n",
      "View:  258\n",
      "publish_date:  2023-09-03 00:00:00\n",
      "Hey I am Playing the video UNLIMITED Food in Affordable Price | Absolute Barbeque Menu | Diksha Singh\n"
     ]
    }
   ],
   "source": [
    "link = argv[1]\n",
    "Link = input(\"Type/Paster The Youtube Link\")\n",
    "\n",
    "yt = YouTube(Link)\n",
    "\n",
    "\n",
    "print(\"Title: \", yt.title)\n",
    "\n",
    "print(\"View: \", yt.views)\n",
    "\n",
    "print(\"publish_date: \",yt.publish_date)\n",
    "\n",
    "webbrowser.open(Link)\n",
    "\n",
    "print('Hey I am Playing the video',yt.title)"
   ]
  }
 ],
 "metadata": {
  "kernelspec": {
   "display_name": "base",
   "language": "python",
   "name": "python3"
  },
  "language_info": {
   "codemirror_mode": {
    "name": "ipython",
    "version": 3
   },
   "file_extension": ".py",
   "mimetype": "text/x-python",
   "name": "python",
   "nbconvert_exporter": "python",
   "pygments_lexer": "ipython3",
   "version": "3.9.12"
  },
  "orig_nbformat": 4
 },
 "nbformat": 4,
 "nbformat_minor": 2
}
