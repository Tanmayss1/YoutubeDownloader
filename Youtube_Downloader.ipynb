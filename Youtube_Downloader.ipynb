{
 "cells": [
  {
   "cell_type": "code",
   "execution_count": 2,
   "metadata": {},
   "outputs": [
    {
     "name": "stdout",
     "output_type": "stream",
     "text": [
      "Collecting pytube\n",
      "  Downloading pytube-15.0.0-py3-none-any.whl (57 kB)\n",
      "Installing collected packages: pytube\n",
      "Successfully installed pytube-15.0.0\n",
      "Note: you may need to restart the kernel to use updated packages.\n"
     ]
    }
   ],
   "source": [
    "pip install pytube"
   ]
  },
  {
   "cell_type": "code",
   "execution_count": 3,
   "metadata": {},
   "outputs": [],
   "source": [
    "from pytube import YouTube\n",
    "from sys import argv"
   ]
  },
  {
   "cell_type": "code",
   "execution_count": 5,
   "metadata": {},
   "outputs": [
    {
     "name": "stdout",
     "output_type": "stream",
     "text": [
      "Title:  Messi and Ronaldo 🐐 The GOAT of The World\n",
      "View:  282736\n"
     ]
    },
    {
     "data": {
      "text/plain": [
       "'c:\\\\Users\\\\cflun\\\\Desktop\\\\Data Analyst 2023\\\\Git Repo\\\\YoutubeDownloader\\\\YoutubeDownloader\\\\./DownloadedFiles\\\\Messi and Ronaldo 🐐 The GOAT of The World.mp4'"
      ]
     },
     "execution_count": 5,
     "metadata": {},
     "output_type": "execute_result"
    }
   ],
   "source": [
    "link = argv[1]\n",
    "yt = YouTube('https://youtu.be/2MnozH-lrw0?si=tezFmeKxkLs5Hc1Y')\n",
    "\n",
    "print(\"Title: \", yt.title)\n",
    "\n",
    "print(\"View: \", yt.views)\n",
    "\n",
    "yd = yt.streams.get_highest_resolution()\n",
    "\n",
    "# ADD FOLDER HERE\n",
    "yd.download('./DownloadedFiles')"
   ]
  },
  {
   "cell_type": "code",
   "execution_count": null,
   "metadata": {},
   "outputs": [],
   "source": []
  }
 ],
 "metadata": {
  "kernelspec": {
   "display_name": "base",
   "language": "python",
   "name": "python3"
  },
  "language_info": {
   "codemirror_mode": {
    "name": "ipython",
    "version": 3
   },
   "file_extension": ".py",
   "mimetype": "text/x-python",
   "name": "python",
   "nbconvert_exporter": "python",
   "pygments_lexer": "ipython3",
   "version": "3.9.12"
  },
  "orig_nbformat": 4
 },
 "nbformat": 4,
 "nbformat_minor": 2
}
